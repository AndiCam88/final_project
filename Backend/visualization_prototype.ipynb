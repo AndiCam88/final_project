{
 "cells": [
  {
   "cell_type": "code",
   "execution_count": null,
   "outputs": [],
   "source": [
    "import pandas as pd\n",
    "# import matplotlib.pyplot as plt\n",
    "import plotly.express as px\n",
    "import plotly.graph_objects as go\n",
    "import plotly.figure_factory as ff\n",
    "import datashader as ds\n",
    "import numpy as np\n",
    "import scipy\n",
    "import os.path\n",
    "import pandas as pd\n",
    "# import matplotlib.pyplot as plt\n",
    "import plotly.express as px\n",
    "import plotly.graph_objects as go\n",
    "import plotly.figure_factory as ff\n",
    "import datashader as ds\n",
    "import numpy as np\n",
    "import scipy\n",
    "import os.path\n",
    "import visualizer_utilities"
   ],
   "metadata": {
    "collapsed": false
   }
  },
  {
   "cell_type": "code",
   "execution_count": null,
   "outputs": [],
   "source": [
    "df = visualizer_utilities.load_data(\"Resources/\")"
   ],
   "metadata": {
    "collapsed": false
   }
  },
  {
   "cell_type": "markdown",
   "source": [
    "# Plotly Types"
   ],
   "metadata": {
    "collapsed": false
   }
  },
  {
   "cell_type": "markdown",
   "source": [
    "## 2D Histogram"
   ],
   "metadata": {
    "collapsed": false
   }
  },
  {
   "cell_type": "code",
   "execution_count": null,
   "outputs": [],
   "source": [
    "# Heatmap\n",
    "# https://plotly.com/python/datashader/\n",
    "\n",
    "\n",
    "cvs = ds.Canvas(plot_width=800, plot_height=800)\n",
    "agg = cvs.points(df, 'tempo', 'energy')\n",
    "zero_mask = agg.values == 0\n",
    "agg.values = np.log10(agg.values, where=np.logical_not(zero_mask))\n",
    "agg.values[zero_mask] = np.nan\n",
    "\n",
    "fig = px.imshow(agg, origin='lower',\n",
    "                labels=\n",
    "                {'color':'Log10(count)'})\n",
    "\n",
    "fig.update_traces(hoverongaps=False)\n",
    "fig.update_layout(coloraxis_colorbar=dict(title='Count', tickprefix='1.e'))\n",
    "\n",
    "# Can't do this because the above function collapses data into blocks.\n",
    "# hovertemplate = \"Artist: %{customdata[0]}<br>Title: %{customdata[1]}<br><extra></extra>\"\n",
    "# customdata = np.stack((table['name'], table['artists']), axis=-1)\n",
    "# fig.update_traces(hovertemplate= hovertemplate)\n",
    "# fig.update_traces(customdata= customdata)\n",
    "\n",
    "fig.show()"
   ],
   "metadata": {
    "collapsed": false
   }
  },
  {
   "cell_type": "markdown",
   "source": [
    "## Gauge"
   ],
   "metadata": {
    "collapsed": false
   }
  },
  {
   "cell_type": "code",
   "execution_count": null,
   "outputs": [],
   "source": [
    "# https://plotly.com/python/gauge-charts/\n",
    "key = \"duration\"\n",
    "\n",
    "# Remove the top 5% of data\n",
    "if( key == \"duration\"):\n",
    "    df = df.sort_values(key, ascending=True)\n",
    "    df.drop(df.tail(int(len(df)*0.05)).index,inplace=True)\n",
    "\n",
    "max_value = df[key].max()\n",
    "average_value = df[key].mean()\n",
    "\n",
    "\n",
    "fig = go.Figure(go.Indicator(\n",
    "    mode = \"gauge+number\",\n",
    "    value = average_value,\n",
    "    gauge = {\n",
    "        'axis': { 'range': [None, max_value]}\n",
    "    },\n",
    "    domain = {'x': [0, 1], 'y': [0, 1]},\n",
    "    title = {'text': \"Average/Max\"}))\n",
    "\n",
    "fig.show()\n"
   ],
   "metadata": {
    "collapsed": false
   }
  },
  {
   "cell_type": "markdown",
   "source": [
    "## Barchart"
   ],
   "metadata": {
    "collapsed": false
   }
  },
  {
   "cell_type": "code",
   "execution_count": null,
   "outputs": [],
   "source": [
    "# https://plotly.com/python/bar-charts/\n",
    "# See https://stackoverflow.com/questions/62012194/how-to-make-a-line-plot-from-a-pandas-dataframe-with-a-long-or-wide-format\n",
    "bardf = df.groupby(\"year\").id.count().reset_index()\n",
    "bardf.rename(columns={\"id\": \"song_count\"}, inplace=True)\n",
    "\n",
    "fig = px.bar(bardf, x='year', y='song_count')\n",
    "fig.show()"
   ],
   "metadata": {
    "collapsed": false
   }
  },
  {
   "cell_type": "code",
   "execution_count": null,
   "outputs": [],
   "source": [
    "def distribution_chart(table, curve_type=\"kde\"):\n",
    "\n",
    "    hist_data = [table.tempo.sample(frac=0.01).to_numpy()]\n",
    "    group_labels = ['distplot']\n",
    "\n",
    "    fig = ff.create_distplot(hist_data, group_labels, curve_type=curve_type )\n",
    "    fig.update_layout(title_text='Curve and Rug Plot')\n",
    "    fig.show()\n",
    "\n",
    "distribution_chart(df)"
   ],
   "metadata": {
    "collapsed": false
   }
  },
  {
   "cell_type": "markdown",
   "source": [
    "## Scatter Plot"
   ],
   "metadata": {
    "collapsed": false
   }
  },
  {
   "cell_type": "code",
   "execution_count": null,
   "outputs": [],
   "source": [
    "table2 = df.sample(frac=0.001)\n",
    "\n",
    "fig = go.Figure(data=go.Scattergl(\n",
    "    y = table2.danceability,\n",
    "    x = table2.tempo,\n",
    "    mode='markers',\n",
    "    marker=dict(\n",
    "        size=table2.energy * 18,\n",
    "        color=table2.key,\n",
    "        line_width=0,\n",
    "        colorscale='Viridis',\n",
    "    )\n",
    "))\n",
    "fig.show()"
   ],
   "metadata": {
    "collapsed": false
   }
  },
  {
   "cell_type": "code",
   "execution_count": null,
   "outputs": [],
   "source": [
    "# https://plotly.com/python/2d-histogram-contour/"
   ],
   "metadata": {
    "collapsed": false
   }
  },
  {
   "cell_type": "code",
   "execution_count": null,
   "outputs": [],
   "source": [],
   "metadata": {
    "collapsed": false
   }
  },
  {
   "cell_type": "code",
   "execution_count": null,
   "outputs": [],
   "source": [],
   "metadata": {
    "collapsed": false
   }
  },
  {
   "cell_type": "markdown",
   "source": [
    "# Plotly Types"
   ],
   "metadata": {
    "collapsed": false
   }
  },
  {
   "cell_type": "markdown",
   "metadata": {},
   "source": [
    "## 2D Histogram"
   ]
  },
  {
   "cell_type": "code",
   "execution_count": null,
   "outputs": [],
   "source": [
    "# Heatmap\n",
    "# https://plotly.com/python/datashader/\n",
    "\n",
    "\n",
    "cvs = ds.Canvas(plot_width=800, plot_height=800)\n",
    "agg = cvs.points(df, 'tempo', 'energy')\n",
    "zero_mask = agg.values == 0\n",
    "agg.values = np.log10(agg.values, where=np.logical_not(zero_mask))\n",
    "agg.values[zero_mask] = np.nan\n",
    "\n",
    "fig = px.imshow(agg, origin='lower',\n",
    "                labels=\n",
    "                {'color':'Log10(count)'})\n",
    "\n",
    "fig.update_traces(hoverongaps=False)\n",
    "fig.update_layout(coloraxis_colorbar=dict(title='Count', tickprefix='1.e'))\n",
    "\n",
    "# Can't do this because the above function collapses data into blocks.\n",
    "# hovertemplate = \"Artist: %{customdata[0]}<br>Title: %{customdata[1]}<br><extra></extra>\"\n",
    "# customdata = np.stack((table['name'], table['artists']), axis=-1)\n",
    "# fig.update_traces(hovertemplate= hovertemplate)\n",
    "# fig.update_traces(customdata= customdata)\n",
    "\n",
    "fig.show()"
   ],
   "metadata": {
    "collapsed": false
   }
  },
  {
   "cell_type": "markdown",
   "metadata": {},
   "source": [
    "## Gauge"
   ]
  },
  {
   "cell_type": "code",
   "execution_count": null,
   "metadata": {},
   "outputs": [],
   "source": [
    "# https://plotly.com/python/gauge-charts/\n",
    "key = \"duration\"\n",
    "\n",
    "# Remove the top 5% of data\n",
    "if( key == \"duration\"):\n",
    "    table = table.sort_values(key, ascending=True)\n",
    "    table.drop(table.tail(int(len(table)*0.05)).index,inplace=True)\n",
    "\n",
    "max_value = table[key].max()\n",
    "average_value = table[key].mean()\n",
    "\n",
    "\n",
    "fig = go.Figure(go.Indicator(\n",
    "    mode = \"gauge+number\",\n",
    "    value = average_value,\n",
    "    gauge = {\n",
    "        'axis': { 'range': [None, max_value]}\n",
    "    },\n",
    "    domain = {'x': [0, 1], 'y': [0, 1]},\n",
    "    title = {'text': \"Average/Max\"}))\n",
    "\n",
    "fig.show()\n"
   ]
  },
  {
   "cell_type": "markdown",
   "metadata": {},
   "source": [
    "## Barchart"
   ]
  },
  {
   "cell_type": "code",
   "execution_count": null,
   "metadata": {},
   "outputs": [],
   "source": [
    "# https://plotly.com/python/bar-charts/\n",
    "# See https://stackoverflow.com/questions/62012194/how-to-make-a-line-plot-from-a-pandas-dataframe-with-a-long-or-wide-format\n",
    "bardf = table.groupby(\"year\").id.count().reset_index()\n",
    "bardf.rename(columns={\"id\": \"song_count\"}, inplace=True)\n",
    "\n",
    "fig = px.bar(bardf, x='year', y='song_count')\n",
    "fig.show()"
   ]
  },
  {
   "cell_type": "code",
   "execution_count": null,
   "metadata": {},
   "outputs": [],
   "source": [
    "def distribution_chart(table, curve_type=\"kde\"):\n",
    "\n",
    "    hist_data = [table.tempo.sample(frac=0.01).to_numpy()]\n",
    "    group_labels = ['distplot']\n",
    "\n",
    "    fig = ff.create_distplot(hist_data, group_labels, curve_type=curve_type )\n",
    "    fig.update_layout(title_text='Curve and Rug Plot')\n",
    "    fig.show()\n",
    "\n",
    "distribution_chart(table)"
   ]
  },
  {
   "cell_type": "markdown",
   "source": [
    "## Scatter Plot"
   ],
   "metadata": {
    "collapsed": false
   }
  },
  {
   "cell_type": "code",
   "execution_count": null,
   "metadata": {},
   "outputs": [],
   "source": [
    "table2 = table.sample(frac=0.001)\n",
    "\n",
    "fig = go.Figure(data=go.Scattergl(\n",
    "    y = table2.danceability,\n",
    "    x = table2.tempo,\n",
    "    mode='markers',\n",
    "    marker=dict(\n",
    "        size=table2.energy * 18,\n",
    "        color=table2.key,\n",
    "        line_width=0,\n",
    "        colorscale='Viridis',\n",
    "    )\n",
    "))\n",
    "fig.show()"
   ]
  },
  {
   "cell_type": "code",
   "execution_count": null,
   "metadata": {},
   "outputs": [],
   "source": [
    "# https://plotly.com/python/2d-histogram-contour/"
   ]
  },
  {
   "cell_type": "code",
   "execution_count": null,
   "outputs": [],
   "source": [],
   "metadata": {
    "collapsed": false
   }
  }
 ],
 "metadata": {
  "kernelspec": {
   "display_name": "Python 3 (ipykernel)",
   "language": "python",
   "name": "python3"
  },
  "language_info": {
   "codemirror_mode": {
    "name": "ipython",
    "version": 3
   },
   "file_extension": ".py",
   "mimetype": "text/x-python",
   "name": "python",
   "nbconvert_exporter": "python",
   "pygments_lexer": "ipython3",
   "version": "3.10.8"
  }
 },
 "nbformat": 4,
 "nbformat_minor": 1
}
