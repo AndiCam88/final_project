{
 "cells": [
  {
   "cell_type": "markdown",
   "id": "6009a740",
   "metadata": {},
   "source": [
    "# Machine Learning Mockup"
   ]
  },
  {
   "cell_type": "markdown",
   "id": "e9d5b12f",
   "metadata": {},
   "source": [
    "## Import package libraries"
   ]
  },
  {
   "cell_type": "code",
   "execution_count": 1,
   "id": "0c8bfe39",
   "metadata": {},
   "outputs": [],
   "source": [
    "# Import libraries\n",
    "import matplotlib.pyplot as plt\n",
    "import pandas as pd\n",
    "import numpy as np\n",
    "import sklearn\n",
    "from sklearn.model_selection import cross_val_score, KFold, train_test_split\n",
    "from sklearn.linear_model import LogisticRegression\n",
    "from sklearn.pipeline import Pipeline\n",
    "from sklearn.metrics import confusion_matrix, accuracy_score"
   ]
  },
  {
   "cell_type": "markdown",
   "id": "6d498d07",
   "metadata": {},
   "source": [
    "## Connect to Postgresql Database"
   ]
  },
  {
   "cell_type": "code",
   "execution_count": 2,
   "id": "b5775f72",
   "metadata": {},
   "outputs": [],
   "source": [
    "from sqlalchemy import create_engine"
   ]
  },
  {
   "cell_type": "code",
   "execution_count": 3,
   "id": "93bd72c3",
   "metadata": {},
   "outputs": [
    {
     "name": "stdout",
     "output_type": "stream",
     "text": [
      "Enter server password········\n"
     ]
    }
   ],
   "source": [
    "from getpass import getpass\n",
    "POSTGRES_PASSWORD = getpass(\"Enter server password\")"
   ]
  },
  {
   "cell_type": "code",
   "execution_count": 4,
   "id": "a8763e54",
   "metadata": {},
   "outputs": [],
   "source": [
    "POSTGRES_ADDRESS = 'neuralburst.io'\n",
    "POSTGRES_PORT = '5432'\n",
    "POSTGRES_USERNAME = 'postgres'\n",
    "POSTGRES_DBNAME = 'music_db'\n",
    "# A long string that contains the necessary Postgres login information\n",
    "postgres_str = ('postgresql://{username}:{password}@{ipaddress}:{port}/{dbname}'.format(username=POSTGRES_USERNAME, password=POSTGRES_PASSWORD, ipaddress=POSTGRES_ADDRESS, port=POSTGRES_PORT, dbname=POSTGRES_DBNAME))\n",
    "# Create the connection\n",
    "cnx = create_engine(postgres_str)"
   ]
  },
  {
   "cell_type": "markdown",
   "id": "5e98b5ca",
   "metadata": {},
   "source": [
    "## Load Dataset"
   ]
  },
  {
   "cell_type": "code",
   "execution_count": 5,
   "id": "2e0b0713",
   "metadata": {},
   "outputs": [
    {
     "data": {
      "text/html": [
       "<div>\n",
       "<style scoped>\n",
       "    .dataframe tbody tr th:only-of-type {\n",
       "        vertical-align: middle;\n",
       "    }\n",
       "\n",
       "    .dataframe tbody tr th {\n",
       "        vertical-align: top;\n",
       "    }\n",
       "\n",
       "    .dataframe thead th {\n",
       "        text-align: right;\n",
       "    }\n",
       "</style>\n",
       "<table border=\"1\" class=\"dataframe\">\n",
       "  <thead>\n",
       "    <tr style=\"text-align: right;\">\n",
       "      <th></th>\n",
       "      <th>id</th>\n",
       "      <th>danceability</th>\n",
       "      <th>energy</th>\n",
       "      <th>loudness</th>\n",
       "      <th>valence</th>\n",
       "      <th>tempo</th>\n",
       "    </tr>\n",
       "  </thead>\n",
       "  <tbody>\n",
       "    <tr>\n",
       "      <th>0</th>\n",
       "      <td>7lmeHLHBe4nmXzuXc0HDjk</td>\n",
       "      <td>0.470</td>\n",
       "      <td>0.978</td>\n",
       "      <td>-5.399</td>\n",
       "      <td>0.5030</td>\n",
       "      <td>117.906</td>\n",
       "    </tr>\n",
       "    <tr>\n",
       "      <th>1</th>\n",
       "      <td>1wsRitfRRtWyEapl0q22o8</td>\n",
       "      <td>0.599</td>\n",
       "      <td>0.957</td>\n",
       "      <td>-5.764</td>\n",
       "      <td>0.4890</td>\n",
       "      <td>103.680</td>\n",
       "    </tr>\n",
       "    <tr>\n",
       "      <th>2</th>\n",
       "      <td>1hR0fIFK2qRG3f3RF70pb7</td>\n",
       "      <td>0.315</td>\n",
       "      <td>0.970</td>\n",
       "      <td>-5.424</td>\n",
       "      <td>0.3700</td>\n",
       "      <td>149.749</td>\n",
       "    </tr>\n",
       "    <tr>\n",
       "      <th>3</th>\n",
       "      <td>2lbASgTSoDO7MTuLAXlTW0</td>\n",
       "      <td>0.440</td>\n",
       "      <td>0.967</td>\n",
       "      <td>-5.830</td>\n",
       "      <td>0.5740</td>\n",
       "      <td>96.752</td>\n",
       "    </tr>\n",
       "    <tr>\n",
       "      <th>4</th>\n",
       "      <td>1MQTmpYOZ6fcMQc56Hdo7T</td>\n",
       "      <td>0.426</td>\n",
       "      <td>0.929</td>\n",
       "      <td>-6.729</td>\n",
       "      <td>0.5390</td>\n",
       "      <td>127.059</td>\n",
       "    </tr>\n",
       "    <tr>\n",
       "      <th>...</th>\n",
       "      <td>...</td>\n",
       "      <td>...</td>\n",
       "      <td>...</td>\n",
       "      <td>...</td>\n",
       "      <td>...</td>\n",
       "      <td>...</td>\n",
       "    </tr>\n",
       "    <tr>\n",
       "      <th>495</th>\n",
       "      <td>2amrUVFif0sLl1DVguby6K</td>\n",
       "      <td>0.518</td>\n",
       "      <td>0.194</td>\n",
       "      <td>-16.398</td>\n",
       "      <td>0.5680</td>\n",
       "      <td>153.890</td>\n",
       "    </tr>\n",
       "    <tr>\n",
       "      <th>496</th>\n",
       "      <td>1gZcLFr0BlmKFo45WvNhxr</td>\n",
       "      <td>0.449</td>\n",
       "      <td>0.560</td>\n",
       "      <td>-8.058</td>\n",
       "      <td>0.3900</td>\n",
       "      <td>133.834</td>\n",
       "    </tr>\n",
       "    <tr>\n",
       "      <th>497</th>\n",
       "      <td>5uXWhOO91v9W57YPHb2YD4</td>\n",
       "      <td>0.338</td>\n",
       "      <td>0.253</td>\n",
       "      <td>-19.190</td>\n",
       "      <td>0.0351</td>\n",
       "      <td>139.932</td>\n",
       "    </tr>\n",
       "    <tr>\n",
       "      <th>498</th>\n",
       "      <td>30UUM8bF30dyBn7p7RfetM</td>\n",
       "      <td>0.304</td>\n",
       "      <td>0.487</td>\n",
       "      <td>-18.994</td>\n",
       "      <td>0.0481</td>\n",
       "      <td>180.013</td>\n",
       "    </tr>\n",
       "    <tr>\n",
       "      <th>499</th>\n",
       "      <td>2JdjrXrQ7KCbW5YOJQuhgq</td>\n",
       "      <td>0.514</td>\n",
       "      <td>0.334</td>\n",
       "      <td>-22.245</td>\n",
       "      <td>0.0519</td>\n",
       "      <td>100.005</td>\n",
       "    </tr>\n",
       "  </tbody>\n",
       "</table>\n",
       "<p>500 rows × 6 columns</p>\n",
       "</div>"
      ],
      "text/plain": [
       "                         id  danceability  energy  loudness  valence    tempo\n",
       "0    7lmeHLHBe4nmXzuXc0HDjk         0.470   0.978    -5.399   0.5030  117.906\n",
       "1    1wsRitfRRtWyEapl0q22o8         0.599   0.957    -5.764   0.4890  103.680\n",
       "2    1hR0fIFK2qRG3f3RF70pb7         0.315   0.970    -5.424   0.3700  149.749\n",
       "3    2lbASgTSoDO7MTuLAXlTW0         0.440   0.967    -5.830   0.5740   96.752\n",
       "4    1MQTmpYOZ6fcMQc56Hdo7T         0.426   0.929    -6.729   0.5390  127.059\n",
       "..                      ...           ...     ...       ...      ...      ...\n",
       "495  2amrUVFif0sLl1DVguby6K         0.518   0.194   -16.398   0.5680  153.890\n",
       "496  1gZcLFr0BlmKFo45WvNhxr         0.449   0.560    -8.058   0.3900  133.834\n",
       "497  5uXWhOO91v9W57YPHb2YD4         0.338   0.253   -19.190   0.0351  139.932\n",
       "498  30UUM8bF30dyBn7p7RfetM         0.304   0.487   -18.994   0.0481  180.013\n",
       "499  2JdjrXrQ7KCbW5YOJQuhgq         0.514   0.334   -22.245   0.0519  100.005\n",
       "\n",
       "[500 rows x 6 columns]"
      ]
     },
     "metadata": {},
     "output_type": "display_data"
    }
   ],
   "source": [
    "#Pull table from Postgresql server might take a minute to finish\n",
    "df = pd.read_sql_query('''SELECT * FROM spotify_features LIMIT 500''', cnx)\n",
    "display(df)"
   ]
  },
  {
   "cell_type": "code",
   "execution_count": 6,
   "id": "53f9576d",
   "metadata": {},
   "outputs": [
    {
     "data": {
      "text/plain": [
       "id               object\n",
       "danceability    float64\n",
       "energy          float64\n",
       "loudness        float64\n",
       "valence         float64\n",
       "tempo           float64\n",
       "dtype: object"
      ]
     },
     "execution_count": 6,
     "metadata": {},
     "output_type": "execute_result"
    }
   ],
   "source": [
    "df.dtypes"
   ]
  },
  {
   "cell_type": "markdown",
   "id": "15ed76f9",
   "metadata": {},
   "source": [
    "## Preprocessing clustering"
   ]
  },
  {
   "cell_type": "code",
   "execution_count": 10,
   "id": "4bbb849d",
   "metadata": {},
   "outputs": [],
   "source": [
    "#Define the features and the target\n",
    "from sklearn.cluster import KMeans\n",
    "X = df.iloc[:, [1, 2, 3, 4, 5]].values"
   ]
  },
  {
   "cell_type": "code",
   "execution_count": 12,
   "id": "b4817221",
   "metadata": {},
   "outputs": [
    {
     "name": "stderr",
     "output_type": "stream",
     "text": [
      "C:\\Users\\devin\\anaconda3\\envs\\mlenv\\lib\\site-packages\\sklearn\\cluster\\_kmeans.py:1039: UserWarning: KMeans is known to have a memory leak on Windows with MKL, when there are less chunks than available threads. You can avoid it by setting the environment variable OMP_NUM_THREADS=2.\n",
      "  \"KMeans is known to have a memory leak on Windows \"\n"
     ]
    }
   ],
   "source": [
    "wcss = [] \n",
    "for i in range(1, 5): \n",
    "    kmeans = KMeans(n_clusters = i, init = 'k-means++', random_state = 42)\n",
    "    kmeans.fit(X) \n",
    "    wcss.append(kmeans.inertia_)"
   ]
  },
  {
   "cell_type": "code",
   "execution_count": null,
   "id": "7bd3779e",
   "metadata": {},
   "outputs": [],
   "source": [
    "ks = [1, 2, 3, 4, 5, 6, 7, 8, 9, 10]\n",
    "sns.lineplot(x = ks, y = wcss);"
   ]
  },
  {
   "cell_type": "markdown",
   "id": "54396c77",
   "metadata": {},
   "source": [
    "# Fit model to data"
   ]
  },
  {
   "cell_type": "code",
   "execution_count": null,
   "id": "a31e045c",
   "metadata": {},
   "outputs": [],
   "source": [
    "#Plot cluster\n",
    "fig, axes = plt.subplots(nrows=1, ncols=2, figsize=(15,5))\n",
    "sns.scatterplot(ax=axes[0], data=df, x='bill_length_mm', y='flipper_length_mm').set_title('Without clustering')"
   ]
  },
  {
   "cell_type": "code",
   "execution_count": null,
   "id": "b644863d",
   "metadata": {},
   "outputs": [],
   "source": [
    "#Plot cluster with elbow method\n",
    "sns.scatterplot(ax=axes[1], data=df, x='bill_length_mm', y='flipper_length_mm', hue=clustering.labels_).set_title('Using the elbow method');"
   ]
  },
  {
   "cell_type": "markdown",
   "id": "d7574f89",
   "metadata": {},
   "source": [
    "# Test the models predictions and accuracy"
   ]
  }
 ],
 "metadata": {
  "kernelspec": {
   "display_name": "mlenv",
   "language": "python",
   "name": "mlenv"
  },
  "language_info": {
   "codemirror_mode": {
    "name": "ipython",
    "version": 3
   },
   "file_extension": ".py",
   "mimetype": "text/x-python",
   "name": "python",
   "nbconvert_exporter": "python",
   "pygments_lexer": "ipython3",
   "version": "3.7.15"
  }
 },
 "nbformat": 4,
 "nbformat_minor": 5
}
