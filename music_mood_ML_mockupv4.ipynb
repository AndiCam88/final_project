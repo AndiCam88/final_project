{
 "cells": [
  {
   "cell_type": "markdown",
   "id": "6009a740",
   "metadata": {},
   "source": [
    "# Machine Learning Mockup"
   ]
  },
  {
   "cell_type": "markdown",
   "id": "e9d5b12f",
   "metadata": {},
   "source": [
    "## Import package libraries"
   ]
  },
  {
   "cell_type": "code",
   "execution_count": 1,
   "id": "0c8bfe39",
   "metadata": {},
   "outputs": [],
   "source": [
    "# Import libraries\n",
    "import matplotlib.pyplot as plt\n",
    "import pandas as pd\n",
    "import numpy as np\n",
    "import pyspark\n",
    "import findspark\n",
    "from sklearn.model_selection import train_test_split\n",
    "from sklearn.linear_model import LogisticRegression\n",
    "from sklearn.metrics import accuracy_score"
   ]
  },
  {
   "cell_type": "markdown",
   "id": "6d498d07",
   "metadata": {},
   "source": [
    "## Connect to Postgresql Database"
   ]
  },
  {
   "cell_type": "code",
   "execution_count": 2,
   "id": "b5775f72",
   "metadata": {},
   "outputs": [],
   "source": [
    "from sqlalchemy import create_engine"
   ]
  },
  {
   "cell_type": "code",
   "execution_count": 3,
   "id": "a8763e54",
   "metadata": {},
   "outputs": [],
   "source": [
    "POSTGRES_ADDRESS = 'neuralburst.io'\n",
    "POSTGRES_PORT = '5432'\n",
    "POSTGRES_USERNAME = 'postgres'\n",
    "POSTGRES_PASSWORD = '<PASSWORD>'\n",
    "POSTGRES_DBNAME = 'music_db'\n",
    "# A long string that contains the necessary Postgres login information\n",
    "postgres_str = ('postgresql://{username}:{password}@{ipaddress}:{port}/{dbname}'.format(username=POSTGRES_USERNAME, password=POSTGRES_PASSWORD, ipaddress=POSTGRES_ADDRESS, port=POSTGRES_PORT, dbname=POSTGRES_DBNAME))\n",
    "# Create the connection\n",
    "cnx = create_engine(postgres_str)"
   ]
  },
  {
   "cell_type": "markdown",
   "id": "5e98b5ca",
   "metadata": {},
   "source": [
    "## Load Dataset"
   ]
  },
  {
   "cell_type": "code",
   "execution_count": 4,
   "id": "2e0b0713",
   "metadata": {},
   "outputs": [
    {
     "data": {
      "text/html": [
       "<div>\n",
       "<style scoped>\n",
       "    .dataframe tbody tr th:only-of-type {\n",
       "        vertical-align: middle;\n",
       "    }\n",
       "\n",
       "    .dataframe tbody tr th {\n",
       "        vertical-align: top;\n",
       "    }\n",
       "\n",
       "    .dataframe thead th {\n",
       "        text-align: right;\n",
       "    }\n",
       "</style>\n",
       "<table border=\"1\" class=\"dataframe\">\n",
       "  <thead>\n",
       "    <tr style=\"text-align: right;\">\n",
       "      <th></th>\n",
       "      <th>id</th>\n",
       "      <th>name</th>\n",
       "      <th>album</th>\n",
       "      <th>album_id</th>\n",
       "      <th>artists</th>\n",
       "      <th>artist_ids</th>\n",
       "      <th>track_number</th>\n",
       "      <th>disc_number</th>\n",
       "      <th>explicit</th>\n",
       "      <th>danceability</th>\n",
       "      <th>...</th>\n",
       "      <th>speechiness</th>\n",
       "      <th>acousticness</th>\n",
       "      <th>instrumentalness</th>\n",
       "      <th>liveness</th>\n",
       "      <th>valence</th>\n",
       "      <th>tempo</th>\n",
       "      <th>duration_ms</th>\n",
       "      <th>time_signature</th>\n",
       "      <th>year</th>\n",
       "      <th>release_date</th>\n",
       "    </tr>\n",
       "  </thead>\n",
       "  <tbody>\n",
       "    <tr>\n",
       "      <th>0</th>\n",
       "      <td>7lmeHLHBe4nmXzuXc0HDjk</td>\n",
       "      <td>Testify</td>\n",
       "      <td>The Battle Of Los Angeles</td>\n",
       "      <td>2eia0myWFgoHuttJytCxgX</td>\n",
       "      <td>['Rage Against The Machine']</td>\n",
       "      <td>['2d0hyoQ5ynDBnkvAbJKORj']</td>\n",
       "      <td>1</td>\n",
       "      <td>1</td>\n",
       "      <td>False</td>\n",
       "      <td>0.470</td>\n",
       "      <td>...</td>\n",
       "      <td>0.0727</td>\n",
       "      <td>0.0261</td>\n",
       "      <td>0.000011</td>\n",
       "      <td>0.3560</td>\n",
       "      <td>0.503</td>\n",
       "      <td>117.906</td>\n",
       "      <td>210133</td>\n",
       "      <td>4.0</td>\n",
       "      <td>1999</td>\n",
       "      <td>11/2/1999</td>\n",
       "    </tr>\n",
       "    <tr>\n",
       "      <th>1</th>\n",
       "      <td>1wsRitfRRtWyEapl0q22o8</td>\n",
       "      <td>Guerrilla Radio</td>\n",
       "      <td>The Battle Of Los Angeles</td>\n",
       "      <td>2eia0myWFgoHuttJytCxgX</td>\n",
       "      <td>['Rage Against The Machine']</td>\n",
       "      <td>['2d0hyoQ5ynDBnkvAbJKORj']</td>\n",
       "      <td>2</td>\n",
       "      <td>1</td>\n",
       "      <td>True</td>\n",
       "      <td>0.599</td>\n",
       "      <td>...</td>\n",
       "      <td>0.1880</td>\n",
       "      <td>0.0129</td>\n",
       "      <td>0.000071</td>\n",
       "      <td>0.1550</td>\n",
       "      <td>0.489</td>\n",
       "      <td>103.680</td>\n",
       "      <td>206200</td>\n",
       "      <td>4.0</td>\n",
       "      <td>1999</td>\n",
       "      <td>11/2/1999</td>\n",
       "    </tr>\n",
       "    <tr>\n",
       "      <th>2</th>\n",
       "      <td>2SwgVZn9S4NGueAaEAryf1</td>\n",
       "      <td>Man on a Mission</td>\n",
       "      <td>Do It for Love</td>\n",
       "      <td>4evw6IBex3N8x1oA2axMTH</td>\n",
       "      <td>['Daryl Hall &amp; John Oates']</td>\n",
       "      <td>['77tT1kLj6mCWtFNqiOmP9H']</td>\n",
       "      <td>1</td>\n",
       "      <td>1</td>\n",
       "      <td>False</td>\n",
       "      <td>0.787</td>\n",
       "      <td>...</td>\n",
       "      <td>0.0315</td>\n",
       "      <td>0.2920</td>\n",
       "      <td>0.000025</td>\n",
       "      <td>0.1010</td>\n",
       "      <td>0.962</td>\n",
       "      <td>119.946</td>\n",
       "      <td>224307</td>\n",
       "      <td>4.0</td>\n",
       "      <td>2018</td>\n",
       "      <td>4/10/2018</td>\n",
       "    </tr>\n",
       "    <tr>\n",
       "      <th>3</th>\n",
       "      <td>0QCQ1Isa0YPVyIbs6JwpO1</td>\n",
       "      <td>Do It for Love</td>\n",
       "      <td>Do It for Love</td>\n",
       "      <td>4evw6IBex3N8x1oA2axMTH</td>\n",
       "      <td>['Daryl Hall &amp; John Oates']</td>\n",
       "      <td>['77tT1kLj6mCWtFNqiOmP9H']</td>\n",
       "      <td>2</td>\n",
       "      <td>1</td>\n",
       "      <td>False</td>\n",
       "      <td>0.587</td>\n",
       "      <td>...</td>\n",
       "      <td>0.0586</td>\n",
       "      <td>0.1070</td>\n",
       "      <td>0.000000</td>\n",
       "      <td>0.0574</td>\n",
       "      <td>0.832</td>\n",
       "      <td>87.976</td>\n",
       "      <td>238000</td>\n",
       "      <td>4.0</td>\n",
       "      <td>2018</td>\n",
       "      <td>4/10/2018</td>\n",
       "    </tr>\n",
       "    <tr>\n",
       "      <th>4</th>\n",
       "      <td>5nvUqq0fvB0GN6mqzDc9Ey</td>\n",
       "      <td>Love Is A Matter Of Distance</td>\n",
       "      <td>Fridays Child</td>\n",
       "      <td>0eaPZK3nTV2Ei075j2t6Na</td>\n",
       "      <td>['Will Young']</td>\n",
       "      <td>['2U6gqwyl9F33YxawnFrZG7']</td>\n",
       "      <td>5</td>\n",
       "      <td>1</td>\n",
       "      <td>False</td>\n",
       "      <td>0.543</td>\n",
       "      <td>...</td>\n",
       "      <td>0.0240</td>\n",
       "      <td>0.5100</td>\n",
       "      <td>0.000000</td>\n",
       "      <td>0.0954</td>\n",
       "      <td>0.304</td>\n",
       "      <td>99.941</td>\n",
       "      <td>178027</td>\n",
       "      <td>4.0</td>\n",
       "      <td>2003</td>\n",
       "      <td>12/1/2003</td>\n",
       "    </tr>\n",
       "  </tbody>\n",
       "</table>\n",
       "<p>5 rows × 24 columns</p>\n",
       "</div>"
      ],
      "text/plain": [
       "                       id                          name  \\\n",
       "0  7lmeHLHBe4nmXzuXc0HDjk                       Testify   \n",
       "1  1wsRitfRRtWyEapl0q22o8               Guerrilla Radio   \n",
       "2  2SwgVZn9S4NGueAaEAryf1              Man on a Mission   \n",
       "3  0QCQ1Isa0YPVyIbs6JwpO1                Do It for Love   \n",
       "4  5nvUqq0fvB0GN6mqzDc9Ey  Love Is A Matter Of Distance   \n",
       "\n",
       "                       album                album_id  \\\n",
       "0  The Battle Of Los Angeles  2eia0myWFgoHuttJytCxgX   \n",
       "1  The Battle Of Los Angeles  2eia0myWFgoHuttJytCxgX   \n",
       "2             Do It for Love  4evw6IBex3N8x1oA2axMTH   \n",
       "3             Do It for Love  4evw6IBex3N8x1oA2axMTH   \n",
       "4              Fridays Child  0eaPZK3nTV2Ei075j2t6Na   \n",
       "\n",
       "                        artists                  artist_ids  track_number  \\\n",
       "0  ['Rage Against The Machine']  ['2d0hyoQ5ynDBnkvAbJKORj']             1   \n",
       "1  ['Rage Against The Machine']  ['2d0hyoQ5ynDBnkvAbJKORj']             2   \n",
       "2   ['Daryl Hall & John Oates']  ['77tT1kLj6mCWtFNqiOmP9H']             1   \n",
       "3   ['Daryl Hall & John Oates']  ['77tT1kLj6mCWtFNqiOmP9H']             2   \n",
       "4                ['Will Young']  ['2U6gqwyl9F33YxawnFrZG7']             5   \n",
       "\n",
       "   disc_number  explicit  danceability  ...  speechiness  acousticness  \\\n",
       "0            1     False         0.470  ...       0.0727        0.0261   \n",
       "1            1      True         0.599  ...       0.1880        0.0129   \n",
       "2            1     False         0.787  ...       0.0315        0.2920   \n",
       "3            1     False         0.587  ...       0.0586        0.1070   \n",
       "4            1     False         0.543  ...       0.0240        0.5100   \n",
       "\n",
       "   instrumentalness  liveness  valence    tempo  duration_ms  time_signature  \\\n",
       "0          0.000011    0.3560    0.503  117.906       210133             4.0   \n",
       "1          0.000071    0.1550    0.489  103.680       206200             4.0   \n",
       "2          0.000025    0.1010    0.962  119.946       224307             4.0   \n",
       "3          0.000000    0.0574    0.832   87.976       238000             4.0   \n",
       "4          0.000000    0.0954    0.304   99.941       178027             4.0   \n",
       "\n",
       "   year  release_date  \n",
       "0  1999     11/2/1999  \n",
       "1  1999     11/2/1999  \n",
       "2  2018     4/10/2018  \n",
       "3  2018     4/10/2018  \n",
       "4  2003     12/1/2003  \n",
       "\n",
       "[5 rows x 24 columns]"
      ]
     },
     "execution_count": 4,
     "metadata": {},
     "output_type": "execute_result"
    }
   ],
   "source": [
    "pd.read_sql_query('''SELECT * FROM spotify_partial LIMIT 5;''', cnx)"
   ]
  },
  {
   "cell_type": "markdown",
   "id": "15ed76f9",
   "metadata": {},
   "source": [
    "## Preprocessing"
   ]
  },
  {
   "cell_type": "code",
   "execution_count": null,
   "id": "b9058ba7",
   "metadata": {},
   "outputs": [],
   "source": [
    "#Libraries to preprocess the variables\n",
    "from sklearn.preprocessing import LabelEncoder,MinMaxScaler"
   ]
  },
  {
   "cell_type": "code",
   "execution_count": null,
   "id": "4bbb849d",
   "metadata": {},
   "outputs": [],
   "source": [
    "#Define the features and the target\n",
    "col_features = df.columns[]\n",
    "X = df[col_features]\n",
    "Y = df['mood']"
   ]
  },
  {
   "cell_type": "markdown",
   "id": "54396c77",
   "metadata": {},
   "source": [
    "# Fit model to data"
   ]
  },
  {
   "cell_type": "code",
   "execution_count": null,
   "id": "0801d9fa",
   "metadata": {},
   "outputs": [],
   "source": [
    "#Normalize the features\n",
    "X= MinMaxScaler().fit_transform(X)"
   ]
  },
  {
   "cell_type": "code",
   "execution_count": null,
   "id": "eb575abc",
   "metadata": {},
   "outputs": [],
   "source": [
    "#Encode the labels (targets)\n",
    "encoder = LabelEncoder()\n",
    "encoder.fit(Y)\n",
    "encoded_y = encoder.transform(Y)"
   ]
  },
  {
   "cell_type": "code",
   "execution_count": null,
   "id": "a6247980",
   "metadata": {},
   "outputs": [],
   "source": [
    "# Split dataset for training\n",
    "X_train, X_test, y_train, y_test = train_test_split(X, \n",
    "                                                    y, \n",
    "                                                    random_state=1, \n",
    "                                                    stratify=y)"
   ]
  },
  {
   "cell_type": "markdown",
   "id": "d7574f89",
   "metadata": {},
   "source": [
    "# Test the models predictions and accuracy"
   ]
  },
  {
   "cell_type": "code",
   "execution_count": null,
   "id": "3a767dc3",
   "metadata": {},
   "outputs": [],
   "source": [
    "predictions = classifier.predict(X_test)"
   ]
  },
  {
   "cell_type": "code",
   "execution_count": null,
   "id": "247c779e",
   "metadata": {},
   "outputs": [],
   "source": [
    "accuracy_score(y_test, predictions)"
   ]
  }
 ],
 "metadata": {
  "kernelspec": {
   "display_name": "mlenv",
   "language": "python",
   "name": "mlenv"
  },
  "language_info": {
   "codemirror_mode": {
    "name": "ipython",
    "version": 3
   },
   "file_extension": ".py",
   "mimetype": "text/x-python",
   "name": "python",
   "nbconvert_exporter": "python",
   "pygments_lexer": "ipython3",
   "version": "3.7.15"
  }
 },
 "nbformat": 4,
 "nbformat_minor": 5
}
