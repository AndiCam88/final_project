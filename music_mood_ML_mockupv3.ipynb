{
 "cells": [
  {
   "cell_type": "markdown",
   "id": "6009a740",
   "metadata": {},
   "source": [
    "# Machine Learning Mockup"
   ]
  },
  {
   "cell_type": "code",
   "execution_count": 1,
   "id": "0c8bfe39",
   "metadata": {},
   "outputs": [],
   "source": [
    "# Import libraries\n",
    "import matplotlib.pyplot as plt\n",
    "import pandas as pd\n",
    "import numpy as np\n",
    "from sklearn.model_selection import train_test_split\n",
    "from sklearn.linear_model import LogisticRegression\n",
    "from sklearn.metrics import accuracy_score"
   ]
  },
  {
   "cell_type": "markdown",
   "id": "15ed76f9",
   "metadata": {},
   "source": [
    "# Preprocessing"
   ]
  },
  {
   "cell_type": "code",
   "execution_count": null,
   "id": "b9058ba7",
   "metadata": {},
   "outputs": [],
   "source": [
    "#Libraries to preprocess the variables\n",
    "from sklearn.preprocessing import LabelEncoder,MinMaxScaler"
   ]
  },
  {
   "cell_type": "code",
   "execution_count": null,
   "id": "4bbb849d",
   "metadata": {},
   "outputs": [],
   "source": [
    "#Define the features and the target\n",
    "col_features = df.columns[]\n",
    "X = df[col_features]\n",
    "Y = df['mood']"
   ]
  },
  {
   "cell_type": "markdown",
   "id": "54396c77",
   "metadata": {},
   "source": [
    "# Fit model to data"
   ]
  },
  {
   "cell_type": "code",
   "execution_count": null,
   "id": "0801d9fa",
   "metadata": {},
   "outputs": [],
   "source": [
    "#Normalize the features\n",
    "X= MinMaxScaler().fit_transform(X)"
   ]
  },
  {
   "cell_type": "code",
   "execution_count": null,
   "id": "eb575abc",
   "metadata": {},
   "outputs": [],
   "source": [
    "#Encode the labels (targets)\n",
    "encoder = LabelEncoder()\n",
    "encoder.fit(Y)\n",
    "encoded_y = encoder.transform(Y)"
   ]
  },
  {
   "cell_type": "code",
   "execution_count": null,
   "id": "a6247980",
   "metadata": {},
   "outputs": [],
   "source": [
    "# Split dataset for training\n",
    "X_train, X_test, y_train, y_test = train_test_split(X, \n",
    "                                                    y, \n",
    "                                                    random_state=1, \n",
    "                                                    stratify=y)"
   ]
  },
  {
   "cell_type": "markdown",
   "id": "d7574f89",
   "metadata": {},
   "source": [
    "# Test the models predictions and accuracy"
   ]
  },
  {
   "cell_type": "code",
   "execution_count": null,
   "id": "3a767dc3",
   "metadata": {},
   "outputs": [],
   "source": [
    "predictions = classifier.predict(X_test)"
   ]
  },
  {
   "cell_type": "code",
   "execution_count": null,
   "id": "247c779e",
   "metadata": {},
   "outputs": [],
   "source": [
    "accuracy_score(y_test, predictions)"
   ]
  }
 ],
 "metadata": {
  "kernelspec": {
   "display_name": "mlenv",
   "language": "python",
   "name": "mlenv"
  },
  "language_info": {
   "codemirror_mode": {
    "name": "ipython",
    "version": 3
   },
   "file_extension": ".py",
   "mimetype": "text/x-python",
   "name": "python",
   "nbconvert_exporter": "python",
   "pygments_lexer": "ipython3",
   "version": "3.7.15"
  }
 },
 "nbformat": 4,
 "nbformat_minor": 5
}
